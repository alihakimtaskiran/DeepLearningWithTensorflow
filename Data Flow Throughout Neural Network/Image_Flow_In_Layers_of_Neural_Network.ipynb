{
  "nbformat": 4,
  "nbformat_minor": 0,
  "metadata": {
    "colab": {
      "name": "Image Flow In Layers of Neural Network.ipynb",
      "version": "0.3.2",
      "provenance": [],
      "collapsed_sections": []
    },
    "kernelspec": {
      "name": "python3",
      "display_name": "Python 3"
    }
  },
  "cells": [
    {
      "cell_type": "code",
      "metadata": {
        "id": "qU1odjg6JvTq",
        "colab_type": "code",
        "outputId": "66bc9e50-f183-4e9e-95e3-ba6a884fdc4d",
        "colab": {
          "base_uri": "https://localhost:8080/",
          "height": 1000
        }
      },
      "source": [
        "import numpy as np\n",
        "import matplotlib.pyplot as plt\n",
        "import tensorflow as tf\n",
        "\n",
        "from tensorflow.examples.tutorials.mnist import input_data\n",
        "mnist=input_data.read_data_sets(\"data/mnist\",one_hot=True,reshape=True)\n",
        "\n",
        "X=tf.placeholder(tf.float32,[None,784])\n",
        "Y=tf.placeholder(tf.float32,[None,10])\n",
        "\n",
        "\n",
        "w1=tf.Variable(tf.truncated_normal([784,1024],stddev=0.3))\n",
        "b1=tf.Variable(tf.zeros([1024]))\n",
        "w2=tf.Variable(tf.truncated_normal([1024,256],stddev=0.3))\n",
        "b2=tf.Variable(tf.zeros([256]))\n",
        "w3=tf.Variable(tf.truncated_normal([256,64],stddev=0.3))\n",
        "b3=tf.Variable(tf.zeros([64]))\n",
        "w4=tf.Variable(tf.truncated_normal([64,16],stddev=0.3))\n",
        "b4=tf.Variable(tf.zeros([16]))\n",
        "wo=tf.Variable(tf.truncated_normal([16,10],stddev=0.3))\n",
        "bo=tf.Variable(tf.zeros([10]))\n",
        "\n",
        "y1=tf.nn.relu(tf.linalg.matmul(X,w1)+b1)\n",
        "y2=tf.nn.relu(tf.linalg.matmul(y1,w2)+b2)\n",
        "y3=tf.nn.relu(tf.linalg.matmul(y2,w3)+b3)\n",
        "y4=tf.nn.tanh(tf.linalg.matmul(y3,w4)+b4)\n",
        "y_pred=tf.nn.softmax(tf.linalg.matmul(y4,wo)+bo)\n",
        "\n",
        "xent=-tf.reduce_sum(Y*tf.math.log(y_pred))\n",
        "\n",
        "correct_pred=tf.equal(tf.argmax(Y,1),tf.argmax(y_pred,1))\n",
        "accuracy=tf.reduce_mean(tf.cast(correct_pred,tf.float32))\n",
        "\n",
        "optimizer=tf.train.AdamOptimizer(7e-4).minimize(xent)\n",
        "\n",
        "\n",
        "with tf.Session() as sess:\n",
        "  sess.run(tf.global_variables_initializer())\n",
        "  for i in range(6001):\n",
        "    batch_x,batch_y=mnist.train.next_batch(512)\n",
        "    sess.run(optimizer,feed_dict={X:batch_x,Y:batch_y})\n",
        "    if i%100==0:\n",
        "      acc,xent_loss=sess.run([accuracy,xent],feed_dict={X:batch_x,Y:batch_y})\n",
        "      print(\"Iteration\",i,\"Accuracy=\"+str(acc),\"Cross Entropy Loss=\"+str(xent_loss))\n",
        "  \n",
        "  tf.train.Saver().save(sess,\"data/model/model.cktp\")\n",
        "  input_im=np.array(mnist.train.images[0:100])\n",
        "  layer1_im=sess.run(y1,feed_dict={X:input_im})\n",
        "  layer2_im=sess.run(y2,feed_dict={X:input_im})\n",
        "  layer3_im=sess.run(y3,feed_dict={X:input_im})\n",
        "  layer4_im=sess.run(y4,feed_dict={X:input_im})\n",
        "  layer5_im=sess.run(y_pred,feed_dict={X:input_im})\n",
        "\n"
      ],
      "execution_count": 0,
      "outputs": [
        {
          "output_type": "stream",
          "text": [
            "Extracting data/mnist/train-images-idx3-ubyte.gz\n",
            "Extracting data/mnist/train-labels-idx1-ubyte.gz\n",
            "Extracting data/mnist/t10k-images-idx3-ubyte.gz\n",
            "Extracting data/mnist/t10k-labels-idx1-ubyte.gz\n",
            "Iteration 0 Accuracy=0.10546875 Cross Entropy Loss=1445.6228\n",
            "Iteration 100 Accuracy=0.75 Cross Entropy Loss=558.7277\n",
            "Iteration 200 Accuracy=0.8769531 Cross Entropy Loss=343.2083\n",
            "Iteration 300 Accuracy=0.8925781 Cross Entropy Loss=286.3761\n",
            "Iteration 400 Accuracy=0.93359375 Cross Entropy Loss=176.9653\n",
            "Iteration 500 Accuracy=0.9296875 Cross Entropy Loss=179.79077\n",
            "Iteration 600 Accuracy=0.9472656 Cross Entropy Loss=144.63947\n",
            "Iteration 700 Accuracy=0.9355469 Cross Entropy Loss=127.5211\n",
            "Iteration 800 Accuracy=0.9375 Cross Entropy Loss=123.62185\n",
            "Iteration 900 Accuracy=0.94921875 Cross Entropy Loss=108.78699\n",
            "Iteration 1000 Accuracy=0.9394531 Cross Entropy Loss=114.50403\n",
            "Iteration 1100 Accuracy=0.9550781 Cross Entropy Loss=93.23221\n",
            "Iteration 1200 Accuracy=0.96484375 Cross Entropy Loss=74.6858\n",
            "Iteration 1300 Accuracy=0.9550781 Cross Entropy Loss=87.68439\n",
            "Iteration 1400 Accuracy=0.9609375 Cross Entropy Loss=76.85116\n",
            "Iteration 1500 Accuracy=0.94140625 Cross Entropy Loss=119.11402\n",
            "Iteration 1600 Accuracy=0.953125 Cross Entropy Loss=78.57854\n",
            "Iteration 1700 Accuracy=0.9765625 Cross Entropy Loss=55.7251\n",
            "Iteration 1800 Accuracy=0.98046875 Cross Entropy Loss=55.664803\n",
            "Iteration 1900 Accuracy=0.9589844 Cross Entropy Loss=84.29431\n",
            "Iteration 2000 Accuracy=0.9609375 Cross Entropy Loss=70.24928\n",
            "Iteration 2100 Accuracy=0.9746094 Cross Entropy Loss=50.5007\n",
            "Iteration 2200 Accuracy=0.9824219 Cross Entropy Loss=45.932526\n",
            "Iteration 2300 Accuracy=0.9785156 Cross Entropy Loss=37.56533\n",
            "Iteration 2400 Accuracy=0.96875 Cross Entropy Loss=65.92503\n",
            "Iteration 2500 Accuracy=0.96484375 Cross Entropy Loss=60.17282\n",
            "Iteration 2600 Accuracy=0.98046875 Cross Entropy Loss=30.799934\n",
            "Iteration 2700 Accuracy=0.9902344 Cross Entropy Loss=34.593895\n",
            "Iteration 2800 Accuracy=0.9746094 Cross Entropy Loss=56.183403\n",
            "Iteration 2900 Accuracy=0.9765625 Cross Entropy Loss=51.68571\n",
            "Iteration 3000 Accuracy=0.9824219 Cross Entropy Loss=37.921738\n",
            "Iteration 3100 Accuracy=0.97265625 Cross Entropy Loss=52.85299\n",
            "Iteration 3200 Accuracy=0.96484375 Cross Entropy Loss=58.39768\n",
            "Iteration 3300 Accuracy=0.9902344 Cross Entropy Loss=20.209476\n",
            "Iteration 3400 Accuracy=0.9707031 Cross Entropy Loss=53.120773\n",
            "Iteration 3500 Accuracy=0.9941406 Cross Entropy Loss=14.490006\n",
            "Iteration 3600 Accuracy=0.98828125 Cross Entropy Loss=19.261272\n",
            "Iteration 3700 Accuracy=0.98828125 Cross Entropy Loss=26.830322\n",
            "Iteration 3800 Accuracy=0.98828125 Cross Entropy Loss=27.03648\n",
            "Iteration 3900 Accuracy=0.9707031 Cross Entropy Loss=43.96243\n",
            "Iteration 4000 Accuracy=0.9863281 Cross Entropy Loss=37.210083\n",
            "Iteration 4100 Accuracy=0.98828125 Cross Entropy Loss=20.23305\n",
            "Iteration 4200 Accuracy=0.98828125 Cross Entropy Loss=19.754473\n",
            "Iteration 4300 Accuracy=0.9863281 Cross Entropy Loss=33.56031\n",
            "Iteration 4400 Accuracy=0.984375 Cross Entropy Loss=24.04555\n",
            "Iteration 4500 Accuracy=0.9824219 Cross Entropy Loss=26.473425\n",
            "Iteration 4600 Accuracy=0.98828125 Cross Entropy Loss=23.270016\n",
            "Iteration 4700 Accuracy=0.984375 Cross Entropy Loss=27.855946\n",
            "Iteration 4800 Accuracy=0.9824219 Cross Entropy Loss=28.518059\n",
            "Iteration 4900 Accuracy=0.98828125 Cross Entropy Loss=34.864124\n",
            "Iteration 5000 Accuracy=0.9921875 Cross Entropy Loss=17.045164\n",
            "Iteration 5100 Accuracy=0.9941406 Cross Entropy Loss=20.111364\n",
            "Iteration 5200 Accuracy=0.9902344 Cross Entropy Loss=26.02253\n",
            "Iteration 5300 Accuracy=0.9902344 Cross Entropy Loss=17.372965\n",
            "Iteration 5400 Accuracy=0.9863281 Cross Entropy Loss=29.836624\n",
            "Iteration 5500 Accuracy=0.98828125 Cross Entropy Loss=17.07938\n",
            "Iteration 5600 Accuracy=0.99609375 Cross Entropy Loss=9.506212\n",
            "Iteration 5700 Accuracy=0.99609375 Cross Entropy Loss=11.4307575\n",
            "Iteration 5800 Accuracy=0.98828125 Cross Entropy Loss=14.816254\n",
            "Iteration 5900 Accuracy=0.9941406 Cross Entropy Loss=11.217045\n",
            "Iteration 6000 Accuracy=0.98828125 Cross Entropy Loss=23.822605\n"
          ],
          "name": "stdout"
        }
      ]
    },
    {
      "cell_type": "code",
      "metadata": {
        "id": "QAOuUMQPS4Lk",
        "colab_type": "code",
        "outputId": "9bd2a08f-2a04-4830-9058-e0d9ef2e0eb0",
        "colab": {
          "base_uri": "https://localhost:8080/",
          "height": 1000
        }
      },
      "source": [
        "plt.imshow(input_im[85].reshape(28,28),cmap=\"gray\")\n",
        "plt.show()\n",
        "plt.imshow(layer1_im[85].reshape(32,32),cmap=\"gray\")\n",
        "plt.show()\n",
        "plt.imshow(layer2_im[85].reshape(16,16),cmap=\"gray\")\n",
        "plt.show()\n",
        "plt.imshow(layer3_im[85].reshape(8,8),cmap=\"gray\")\n",
        "plt.show()\n",
        "plt.imshow(layer4_im[85].reshape(4,4),cmap=\"gray\")\n",
        "plt.show()\n",
        "plt.imshow(layer5_im[85].reshape(1,10),cmap=\"gray\")\n",
        "plt.show()"
      ],
      "execution_count": 0,
      "outputs": [
        {
          "output_type": "display_data",
          "data": {
            "image/png": "[encoded data removed]",
            "text/plain": [
              "<Figure size 432x288 with 1 Axes>"
            ]
          },
          "metadata": {
            "tags": []
          }
        },
        {
          "output_type": "display_data",
          "data": {
            "image/png": "[encoded data removed]",
            "text/plain": [
              "<Figure size 432x288 with 1 Axes>"
            ]
          },
          "metadata": {
            "tags": []
          }
        },
        {
          "output_type": "display_data",
          "data": {
            "image/png": "[encoded data removed]",
            "text/plain": [
              "<Figure size 432x288 with 1 Axes>"
            ]
          },
          "metadata": {
            "tags": []
          }
        },
        {
          "output_type": "display_data",
          "data": {
            "image/png": "[encoded data removed]",
            "text/plain": [
              "<Figure size 432x288 with 1 Axes>"
            ]
          },
          "metadata": {
            "tags": []
          }
        },
        {
          "output_type": "display_data",
          "data": {
            "image/png": "[encoded data removed]",
            "text/plain": [
              "<Figure size 432x288 with 1 Axes>"
            ]
          },
          "metadata": {
            "tags": []
          }
        },
        {
          "output_type": "display_data",
          "data": {
            "image/png": "[encoded data removed]",
            "text/plain": [
              "<Figure size 432x288 with 1 Axes>"
            ]
          },
          "metadata": {
            "tags": []
          }
        }
      ]
    }
  ]
}